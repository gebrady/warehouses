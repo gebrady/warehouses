{
 "cells": [
  {
   "cell_type": "markdown",
   "metadata": {},
   "source": [
    "# Script for creating animation keyframes of warehouse growth in San Bernardino and Riverside Counties, California\n",
    "### Created for the Robert Redford Conservancy for Southern California Sustainability in 2022\n",
    "#### The first published iteration of this analysis used **warehouse** as the sole keyword with which to subselect the polygons. Future versions will use revised keywords that more aptly select known warehouses from the datasets.\n",
    "#### This analysis is ongoing and relies on dynamic data that are updated periodically. We recognize how publishing workflows improves transparency in methods. Revisions to this workflow to increase accuracy and robustness of the analysis are welcomed.\n",
    "#### Some of our goals include an interactive widget to view warehouse parcels alongside satellite imagery and through time; we will update this page as necessary.\n",
    "Last updated May 3, 2022\n",
    "\n",
    "Authored by Graham E. Brady, gbrady@pitzer.edu"
   ]
  },
  {
   "cell_type": "markdown",
   "metadata": {},
   "source": [
    "#### We began by importing the required libraries, setting the global parameters, and writing some helper functions."
   ]
  },
  {
   "cell_type": "code",
   "execution_count": 1,
   "metadata": {},
   "outputs": [],
   "source": [
    "import arcpy\n",
    "import os\n",
    "import numpy as np\n",
    "import pandas as pd\n",
    "import zipfile\n",
    "import requests\n",
    "ListOfYears = ['1975','1980','1985','1990','1995','2000','2005','2010','2015','2020']\n",
    "\n",
    "data_path = r'D:\\01_OntarioWarehouses\\InlandEmpireWarehouses\\data'\n",
    "dst_path = r'D:\\01_OntarioWarehouses\\InlandEmpireWarehouses\\maps'\n",
    "\n",
    "def unique_values(table, field):  ##uses list comprehension\n",
    "    with arcpy.da.SearchCursor(table, [field]) as cursor:\n",
    "        return sorted(filter(None, {row[0] for row in cursor}))\n",
    "\n",
    "def addCommas(number):\n",
    "    return (\"{:,}\".format(number))\n",
    "\n",
    "def updateNorthArrow(logo,northArrow):\n",
    "    if logo.visible:\n",
    "        northArrow.elementPositionX = 3.27\n",
    "        northArrow.elementPositionY = 7.83\n",
    "    else:\n",
    "        northArrow.elementPositionX = 0.67\n",
    "        northArrow.elementPositionY = 7.83"
   ]
  },
  {
   "cell_type": "markdown",
   "metadata": {},
   "source": [
    "#### Then, parcel data from San Bernardino and Riverside Counties were downloaded from their respective online repositories."
   ]
  },
  {
   "cell_type": "code",
   "execution_count": 3,
   "metadata": {},
   "outputs": [
    {
     "name": "stdout",
     "output_type": "stream",
     "text": [
      "11-13-14  03:34PM       <DIR>          gims\n"
     ]
    },
    {
     "data": {
      "text/plain": [
       "182174101"
      ]
     },
     "execution_count": 3,
     "metadata": {},
     "output_type": "execute_result"
    }
   ],
   "source": [
    "#San Bernardino County\n",
    "from ftplib import FTP\n",
    "\n",
    "os.chdir(data_path + r'\\raw')\n",
    "\n",
    "#San Bernardino County\n",
    "FTP_host = 'gis1.sbcounty.gov'\n",
    "FTP = FTP()\n",
    "FTP.connect(FTP_host)\n",
    "FTP.login(user='gisftp',passwd='1sbcftp1')\n",
    "#FTP.dir()\n",
    "path = 'gims/parcel_basemap_data/'\n",
    "FTP.cwd(path)\n",
    "filename = 'countywide_parcels_04_18_2022.zip'\n",
    "#/countywide_parcels_02_28_2022.zip' and other similar filenames\n",
    "FTP.retrbinary(\"RETR \" + filename, open('SB_' + filename, 'wb').write)\n",
    "filename = 'Assessor%20Use%20Codes%2005-21-2012.xls'\n",
    "FTP.retrbinary(\"RETR \" + filename, open('SB_' + filename, 'wb').write)\n",
    "FTP.quit()\n",
    "print('SB County parcel data were downloaded.')\n",
    "\n",
    "#Riverside County\n",
    "url = 'https://gis2.rivco.org/Portals/0/Documents/downloads/ParcelAttributed0422.zip'\n",
    "r = requests.get(url, allow_redirects=True)\n",
    "open('riverside_parcel_raw_data.zip', 'wb').write(r.content)\n",
    "print('Riverside County parcel data were downloaded.')\n",
    "#\n",
    "#Imperial County\n",
    "#ic = 'https://services1.arcgis.com/fwUrSNrE506Uxp7v/arcgis/rest/services/Parcels_APN_Only_new/FeatureServer/0'\n",
    "#arcpy.conversion.WFSToFeatureClass(input_WFS_server, WFS_feature_type, out_path, out_name, {is_complex}, {max_features}, {expose_metadata}, {swap_xy})\n",
    "#\n",
    "#Los Angeles County\n",
    "#"
   ]
  },
  {
   "cell_type": "markdown",
   "metadata": {
    "heading_collapsed": true
   },
   "source": [
    "#### Some additional files are required to attribute parcel data from Riverside County's assessor office. All of the files need to be unzipped."
   ]
  },
  {
   "cell_type": "code",
   "execution_count": 57,
   "metadata": {
    "hidden": true
   },
   "outputs": [
    {
     "name": "stdout",
     "output_type": "stream",
     "text": [
      "Riverside County assessor data were downloaded.\n",
      "Extracted Riverside parcel data.\n"
     ]
    }
   ],
   "source": [
    "url = 'https://gis2.rivco.org/Portals/0/Documents/downloads/Assessor_Tables0422.zip'\n",
    "r = requests.get(url, allow_redirects=True)\n",
    "open('riverside_assessor_tables.zip', 'wb').write(r.content)\n",
    "print('Riverside County assessor data were downloaded.')\n",
    "with zipfile.ZipFile(\"riverside_assessor_tables.zip\",\"r\") as zip_ref:\n",
    "    zip_ref.extractall(\"Riverside\")\n",
    "    print('Extracted Riverside parcel data.')"
   ]
  },
  {
   "cell_type": "code",
   "execution_count": 9,
   "metadata": {
    "hidden": true
   },
   "outputs": [],
   "source": [
    "#Unzipping raw data\n",
    "with zipfile.ZipFile(\"SB_countywide_parcels_04_18_2022.zip\",\"r\") as zip_ref:\n",
    "    zip_ref.extractall(\"SanBernardino\")\n",
    "    print('Extracted San Bernardino parcel data.')\n",
    "    \n",
    "with zipfile.ZipFile(\"riverside_parcel_raw_data.zip\",\"r\") as zip_ref:\n",
    "    zip_ref.extractall(\"Riverside\")\n",
    "    print('Extracted Riverside parcel data.')\n"
   ]
  },
  {
   "cell_type": "markdown",
   "metadata": {},
   "source": [
    "### Starting with San Bernardino County, we set the relevant layout items in the ArcGIS environment, subselect the warehouses within the parcel shapefile, calculate the growth of warehouses by year, and write map files for each year in the analysis as well as the present. We include parcels whose years cannot be attributed in the final static map of the current distribution.\n",
    "\n",
    "#### In the first published iteration of this map and workflow, the keyword \"warehouse\" was used to classify parcels for area and count calculations and map creation."
   ]
  },
  {
   "cell_type": "code",
   "execution_count": 12,
   "metadata": {},
   "outputs": [],
   "source": [
    "######Starting with SB county#######\n",
    "arcpy.env.workspace =r'D:\\01_OntarioWarehouses\\InlandEmpireWarehouses\\data\\temp.gdb'\n",
    "arcpy.env.overwriteOutput = True\n",
    "os.chdir(data_path + r'\\raw')\n",
    "\n",
    "aprx = arcpy.mp.ArcGISProject(\"Current\")\n",
    "lyt = aprx.listLayouts(\"LayoutSanBernardino\")[0]\n",
    "m = aprx.listMaps(\"WarehousesSanBernardino\")[0]\n",
    "m.addDataFromPath(r'D:\\01_OntarioWarehouses\\InlandEmpireWarehouses\\data\\raw\\SanBernardino\\pbmpoly.shp')\n",
    "\n",
    "ListOfYears = ['1975','1980','1985','1990','1995','2000','2005','2010','2015','2020']\n",
    "lytText = lyt.listElements(\"TEXT_ELEMENT\", \"YearsDisplayedText\")[0]\n",
    "\n",
    "##Layout Objects###\n",
    "lytText = lyt.listElements(\"TEXT_ELEMENT\", \"YearsDisplayedText\")[0]\n",
    "lytTextTotalArea = lyt.listElements(\"TEXT_ELEMENT\", \"TotalArea\")[0]\n",
    "lytTextDisclaimer = lyt.listElements(\"TEXT_ELEMENT\", \"disclaimer\")[0]\n",
    "lytTextWarehouseCount = lyt.listElements(\"TEXT_ELEMENT\", \"WarehouseCount\")[0]"
   ]
  },
  {
   "cell_type": "code",
   "execution_count": 13,
   "metadata": {},
   "outputs": [],
   "source": [
    "####San Bernardino Warehouse Subselection####\n",
    "codes = pd.read_excel('Assessor Use Codes 05-21-2012.xls')\n",
    "warehouse_codes = codes[codes['Description'].str.lower().str.contains('warehouse',na=False)]\n",
    "parcel_types = warehouse_codes['Use Code'].tolist()"
   ]
  },
  {
   "cell_type": "code",
   "execution_count": 14,
   "metadata": {},
   "outputs": [],
   "source": [
    "parcels = m.listLayers('pbmpoly')[0]\n",
    "for parcel_type in parcel_types:\n",
    "    query = \"TYPEUSE = \" + str(parcel_type)\n",
    "    arcpy.management.SelectLayerByAttribute(parcels,\"ADD_TO_SELECTION\",query)\n",
    "arcpy.management.CopyFeatures(parcels, r'\\derived\\Warehouses_SanBernardino.shp')\n",
    "arcpy.SelectLayerByAttribute_management(parcels, \"CLEAR_SELECTION\")\n",
    "\n",
    "lyrList = m.listLayers('Warehouses_SanBernardino')\n",
    "warehouseLyr = lyrList[0]\n",
    "warehouseLyr.name = 'Warehouses'\n",
    "sym = warehouseLyr.symbology\n",
    "sym.renderer.symbol.color = {'CMYK' : [0, 50, 100, 0, 100]}\n",
    "sym.renderer.symbol.outlineColor = {'CMYK' : [0, 50, 100, 0, 0]}\n",
    "warehouseLyr.symbology = sym\n",
    "\n",
    "m.removeLayer(m.listLayers('pbmpoly')[0])"
   ]
  },
  {
   "cell_type": "code",
   "execution_count": 15,
   "metadata": {},
   "outputs": [
    {
     "name": "stdout",
     "output_type": "stream",
     "text": [
      "Warehouses has 3351 records covering ~765,763,495 square feet of land in SB County.\n",
      "calculating area and count by year for SB county in year  1975\n",
      "calculating area and count by year for SB county in year  1980\n",
      "calculating area and count by year for SB county in year  1985\n",
      "calculating area and count by year for SB county in year  1990\n",
      "calculating area and count by year for SB county in year  1995\n",
      "calculating area and count by year for SB county in year  2000\n",
      "calculating area and count by year for SB county in year  2005\n",
      "calculating area and count by year for SB county in year  2010\n",
      "calculating area and count by year for SB county in year  2015\n",
      "calculating area and count by year for SB county in year  2020\n"
     ]
    }
   ],
   "source": [
    "###Calculate total area and count of warehouses for the county###\n",
    "warehouseLyr.definitionQuery = None\n",
    "areaSB = sum([row[0] for row in arcpy.da.SearchCursor(warehouseLyr, \"Shape_Area\")])\n",
    "areaSB = round(areaSB)\n",
    "countSB = arcpy.management.GetCount(warehouseLyr)\n",
    "print('{} has {} records covering ~{} square feet of land in SB County.'.format(warehouseLyr, countSB[0], addCommas(areaSB)))\n",
    "\n",
    "###Calculate SB County Areas by years###\n",
    "OutList = []\n",
    "totalCount = 0\n",
    "sumAreas = 0\n",
    "\n",
    "for year in ListOfYears:\n",
    "    arcpy.management.SelectLayerByAttribute(warehouseLyr, 'NEW_SELECTION', \"BASE_YEAR <= \" + year + \" And BASE_YEAR <> 0\")\n",
    "    #warehouseLyr.definitionQuery = \"BASE_YEAR <= \" + year + \" And BASE_YEAR <> 0\"\n",
    "    areas = [row[0] for row in arcpy.da.SearchCursor(warehouseLyr, \"Shape_Area\")]\n",
    "    sumAreas = sum(areas)\n",
    "    totalCount = len(areas)\n",
    "    print('calculating area and count by year for SB county in year ', year)\n",
    "    OutList.append([year, sumAreas, totalCount])\n",
    "    #Calculate square footage and total number of warehouses in \n",
    "    #each city of San Bernardino County for all years of study\n",
    "    #Do not display on map\n",
    "    #percentage of total warehouses\n",
    "    \n",
    "arcpy.SelectLayerByAttribute_management(warehouseLyr, \"CLEAR_SELECTION\")\n",
    "    \n",
    "AreaByYear = np.array(OutList)\n",
    "struct_array = numpy.core.records.fromarrays(\n",
    "    AreaByYear.transpose(), numpy.dtype([('Year', '<i8'), ('AreaTotal', '<f8'), ('WarehousesCount', '<i8')]))\n",
    "arcpy.da.NumPyArrayToTable(struct_array,r\"D:\\01_OntarioWarehouses\\InlandEmpireWarehouses\\data\\temp.gdb\\AreaCountByYearSanBernardino\")\n",
    "m.addDataFromPath(data_path + r'\\temp.gdb\\AreaCountByYearSanBernardino')\n",
    "AreaTable = m.listTables(\"AreaCountByYearSanBernardino*\")[0]\n",
    "delimfield = arcpy.AddFieldDelimiters(AreaTable, 'Year')"
   ]
  },
  {
   "cell_type": "code",
   "execution_count": 16,
   "metadata": {},
   "outputs": [
    {
     "name": "stdout",
     "output_type": "stream",
     "text": [
      "assessing year:  1975\n",
      "assessing year:  1980\n",
      "assessing year:  1985\n",
      "assessing year:  1990\n",
      "assessing year:  1995\n",
      "assessing year:  2000\n",
      "assessing year:  2005\n",
      "assessing year:  2010\n",
      "assessing year:  2015\n",
      "assessing year:  2020\n",
      "assessing SB County all entries.\n"
     ]
    },
    {
     "data": {
      "text/plain": [
       "'D:\\\\01_OntarioWarehouses\\\\InlandEmpireWarehouses\\\\maps\\\\SBwarehouses2021.png'"
      ]
     },
     "execution_count": 16,
     "metadata": {},
     "output_type": "execute_result"
    }
   ],
   "source": [
    "for year in ListOfYears:\n",
    "    warehouseLyr.definitionQuery = \"BASE_YEAR <= \" + year + \" And BASE_YEAR <> 0\"\n",
    "    with arcpy.da.SearchCursor(AreaTable, 'AreaTotal', where_clause=delimfield +' = ' + str(year)) as cursor:\n",
    "        for row in cursor:\n",
    "            totalArea = row[0]\n",
    "            totalArea = round(totalArea)\n",
    "    with arcpy.da.SearchCursor(AreaTable, 'WarehousesCount', where_clause=delimfield +' = ' + str(year)) as cursor:\n",
    "        for row in cursor:\n",
    "            warehousesCount = row[0]\n",
    "    lytText.text = 'Distribution in ' + str(year)\n",
    "    lytTextTotalArea.text = 'Area Occupied by Warehouses: '+ str(addCommas(totalArea)) + ' ft<sup>2</sup>'\n",
    "    lytTextWarehouseCount.text = 'Total Number of Warehouses: ' + str(addCommas(warehousesCount))\n",
    "    print('assessing year: ', year)\n",
    "    arcpy.SelectLayerByAttribute_management(warehouseLyr, \"CLEAR_SELECTION\")\n",
    "    lyt.exportToPDF(dst_path + r'\\SBwarehouses' + str(year)) #PNG or SVG\n",
    "    lyt.exportToSVG(dst_path + r'\\SBwarehouses' + str(year)) #PNG or SVG\n",
    "    lyt.exportToPNG(dst_path + r'\\SBwarehouses' + str(year)) #PNG or SVG\n",
    "arcpy.Delete_management(data_path + r'\\temp.gdb\\AreaCountByYearSanBernardino')\n",
    "warehouseLyr.definitionQuery = None\n",
    "lytText.text = 'Distribution in 2021'\n",
    "lytTextTotalArea.text = 'Area Occupied by Warehouses: '+ str(addCommas(round(float(areaSB)))) + ' ft<sup>2</sup>'\n",
    "lytTextWarehouseCount.text = 'Total Number of Warehouses: ' + str(addCommas(int(countSB[0])))\n",
    "print('assessing SB County all entries.')\n",
    "lyt.exportToPDF(dst_path + r'\\SBwarehouses2021') #PNG or SVG\n",
    "lyt.exportToSVG(dst_path + r'\\SBwarehouses2021') #PNG or SVG\n",
    "lyt.exportToPNG(dst_path + r'\\SBwarehouses2021') #PNG or SVG\n"
   ]
  },
  {
   "cell_type": "markdown",
   "metadata": {},
   "source": [
    "![San Bernardino County Warehouses in 2021](SBwarehouses2021.svg)"
   ]
  },
  {
   "cell_type": "markdown",
   "metadata": {},
   "source": [
    "### For Riverside County, we set the relevant layout items in the ArcGIS environment, subselect the warehouses within the parcel shapefile, and merge the parcel shapefile to the related assessor table of parcel characteristics. Using the shared APNs (assessor parcel number), we add the base year of each parcel in the assessor records to our database.\n",
    "\n",
    "#### In the first published iteration of this map and workflow, the keyword \"warehouse\" was used to classify parcels for area and count calculations and map creation."
   ]
  },
  {
   "cell_type": "code",
   "execution_count": 2,
   "metadata": {},
   "outputs": [],
   "source": [
    "######Riverside County preliminary connections#####\n",
    "#arcpy.env.workspace = r'D:\\01_OntarioWarehouses\\WarehouseStudy\\Riverside GIS Data\\RiversideWarehouses\\RiversideAnimation.gdb'\n",
    "\n",
    "aprx = arcpy.mp.ArcGISProject(\"Current\")\n",
    "lyt = aprx.listLayouts(\"LayoutRiverside\")[0]\n",
    "m = aprx.listMaps(\"WarehousesRiverside\")[0]\n",
    "lytText = lyt.listElements(\"TEXT_ELEMENT\", \"YearsDisplayedText\")[0]\n",
    "lytTextTotalArea = lyt.listElements(\"TEXT_ELEMENT\", \"TotalArea\")[0]\n",
    "lytTextDisclaimer = lyt.listElements(\"TEXT_ELEMENT\", \"disclaimer\")[0]\n",
    "lytTextWarehouseCount = lyt.listElements(\"TEXT_ELEMENT\", \"WarehouseCount\")[0]"
   ]
  },
  {
   "cell_type": "code",
   "execution_count": 7,
   "metadata": {},
   "outputs": [
    {
     "data": {
      "text/html": [
       "<div>\n",
       "<style scoped>\n",
       "    .dataframe tbody tr th:only-of-type {\n",
       "        vertical-align: middle;\n",
       "    }\n",
       "\n",
       "    .dataframe tbody tr th {\n",
       "        vertical-align: top;\n",
       "    }\n",
       "\n",
       "    .dataframe thead th {\n",
       "        text-align: right;\n",
       "    }\n",
       "</style>\n",
       "<table border=\"1\" class=\"dataframe\">\n",
       "  <thead>\n",
       "    <tr style=\"text-align: right;\">\n",
       "      <th></th>\n",
       "      <th>0</th>\n",
       "    </tr>\n",
       "  </thead>\n",
       "  <tbody>\n",
       "    <tr>\n",
       "      <th>97</th>\n",
       "      <td>CT-Warehouse/Cold Storage</td>\n",
       "    </tr>\n",
       "    <tr>\n",
       "      <th>98</th>\n",
       "      <td>CT-Warehouse/Dry Storage</td>\n",
       "    </tr>\n",
       "    <tr>\n",
       "      <th>255</th>\n",
       "      <td>Warehouse/Dry Storage</td>\n",
       "    </tr>\n",
       "    <tr>\n",
       "      <th>256</th>\n",
       "      <td>Warehouse/Mega</td>\n",
       "    </tr>\n",
       "  </tbody>\n",
       "</table>\n",
       "</div>"
      ],
      "text/plain": [
       "                             0\n",
       "97   CT-Warehouse/Cold Storage\n",
       "98    CT-Warehouse/Dry Storage\n",
       "255      Warehouse/Dry Storage\n",
       "256             Warehouse/Mega"
      ]
     },
     "execution_count": 7,
     "metadata": {},
     "output_type": "execute_result"
    }
   ],
   "source": [
    "######Riverside Parcel Subselection Process#####\n",
    "m.addDataFromPath(data_path + r'\\raw\\Riverside\\ParcelAttributed.gdb\\PARCELS_CREST')\n",
    "parcels = m.listLayers('PARCELS_CREST')[0]\n",
    "parcel_types = pd.DataFrame(unique_values(parcels, 'CLASS_CODE'))\n",
    "warehouse_codes = parcel_types[parcel_types[0].str.lower().str.contains('warehouse')]\n",
    "for parcel_type in warehouse_codes[0].tolist():\n",
    "    query = \"CLASS_CODE = \" + \"'\" + str(parcel_type) + \"'\"\n",
    "    arcpy.management.SelectLayerByAttribute(parcels,\"ADD_TO_SELECTION\",query)\n",
    "arcpy.management.CopyFeatures(parcels, data_path + r'\\derived\\Warehouses_Riverside_prelim.shp')\n",
    "arcpy.SelectLayerByAttribute_management(parcels, \"CLEAR_SELECTION\")\n",
    "m.removeLayer(m.listLayers('PARCELS_CREST')[0])\n",
    "warehouse_codes"
   ]
  },
  {
   "cell_type": "code",
   "execution_count": 11,
   "metadata": {},
   "outputs": [],
   "source": [
    "######Riverside Parcel Subselection Process with indsutrial codes#####\n",
    "m.addDataFromPath(data_path + r'\\raw\\Riverside\\ParcelAttributed.gdb\\PARCELS_CREST')\n",
    "parcels = m.listLayers('PARCELS_CREST')[0]\n",
    "parcel_types = pd.DataFrame(unique_values(parcels, 'CLASS_CODE'))\n",
    "industrial_codes = parcel_types[parcel_types[0].str.lower().str.contains('industrial')]\n",
    "for parcel_type in industrial_codes[0].tolist():\n",
    "    query = \"CLASS_CODE = \" + \"'\" + str(parcel_type) + \"'\"\n",
    "    arcpy.management.SelectLayerByAttribute(parcels,\"ADD_TO_SELECTION\",query)\n",
    "arcpy.management.CopyFeatures(parcels, data_path + r'\\derived\\Industrial_Riverside_prelim.shp')\n",
    "arcpy.SelectLayerByAttribute_management(parcels, \"CLEAR_SELECTION\")\n",
    "m.removeLayer(m.listLayers('PARCELS_CREST')[0])\n",
    "industrial_codes\n",
    "\n",
    "industrialLyr = m.listLayers('Industrial*')[0]\n",
    "\n",
    "m.addDataFromPath(data_path + r'\\raw\\Riverside\\CREST_Tables.gdb\\CREST_PROPERTY_CHAR')\n",
    "arcpy.management.AddJoin(industrialLyr, \"APN\", \n",
    "                         \"CREST_PROPERTY_CHAR\", \"PIN\", \n",
    "                         \"KEEP_ALL\", \"NO_INDEX_JOIN_FIELDS\")\n",
    "arcpy.conversion.FeatureClassToFeatureClass(\"Industrial_Riverside_prelim\", r\"D:\\01_OntarioWarehouses\\InlandEmpireWarehouses\\data\\derived\", \"Industrial_Riverside.shp\", '', 'APN \"APN\" true true false 32 Text 0 0,First,#,Warehouses_Riverside_prelim,Warehouses_Riverside_prelim.APN,0,32;FLAG \"FLAG\" true true false 2 Text 0 0,First,#,Warehouses_Riverside_prelim,Warehouses_Riverside_prelim.FLAG,0,2;MAIL_STREE \"MAIL_STREE\" true true false 64 Text 0 0,First,#,Warehouses_Riverside_prelim,Warehouses_Riverside_prelim.MAIL_STREE,0,64;MAIL_CITY \"MAIL_CITY\" true true false 48 Text 0 0,First,#,Warehouses_Riverside_prelim,Warehouses_Riverside_prelim.MAIL_CITY,0,48;SITUS_STRE \"SITUS_STRE\" true true false 64 Text 0 0,First,#,Warehouses_Riverside_prelim,Warehouses_Riverside_prelim.SITUS_STRE,0,64;SITUS_CITY \"SITUS_CITY\" true true false 48 Text 0 0,First,#,Warehouses_Riverside_prelim,Warehouses_Riverside_prelim.SITUS_CITY,0,48;STREET_NUM \"STREET_NUM\" true true false 10 Long 0 10,First,#,Warehouses_Riverside_prelim,Warehouses_Riverside_prelim.STREET_NUM,-1,-1;STREET_PRE \"STREET_PRE\" true true false 2 Text 0 0,First,#,Warehouses_Riverside_prelim,Warehouses_Riverside_prelim.STREET_PRE,0,2;STREET_NAM \"STREET_NAM\" true true false 64 Text 0 0,First,#,Warehouses_Riverside_prelim,Warehouses_Riverside_prelim.STREET_NAM,0,64;STREET_TYP \"STREET_TYP\" true true false 8 Text 0 0,First,#,Warehouses_Riverside_prelim,Warehouses_Riverside_prelim.STREET_TYP,0,8;STREET_SUF \"STREET_SUF\" true true false 16 Text 0 0,First,#,Warehouses_Riverside_prelim,Warehouses_Riverside_prelim.STREET_SUF,0,16;UNIT_NUMBE \"UNIT_NUMBE\" true true false 8 Text 0 0,First,#,Warehouses_Riverside_prelim,Warehouses_Riverside_prelim.UNIT_NUMBE,0,8;CITY \"CITY\" true true false 32 Text 0 0,First,#,Warehouses_Riverside_prelim,Warehouses_Riverside_prelim.CITY,0,32;ZIP_CODE \"ZIP_CODE\" true true false 16 Text 0 0,First,#,Warehouses_Riverside_prelim,Warehouses_Riverside_prelim.ZIP_CODE,0,16;CLASS_CODE \"CLASS_CODE\" true true false 64 Text 0 0,First,#,Warehouses_Riverside_prelim,Warehouses_Riverside_prelim.CLASS_CODE,0,64;MULTIPLE \"MULTIPLE\" true true false 64 Text 0 0,First,#,Warehouses_Riverside_prelim,Warehouses_Riverside_prelim.MULTIPLE,0,64;SUBDIVISIO \"SUBDIVISIO\" true true false 64 Text 0 0,First,#,Warehouses_Riverside_prelim,Warehouses_Riverside_prelim.SUBDIVISIO,0,64;ACREAGE \"ACREAGE\" true true false 19 Double 0 0,First,#,Warehouses_Riverside_prelim,Warehouses_Riverside_prelim.ACREAGE,-1,-1;RECORDER_M \"RECORDER_M\" true true false 16 Text 0 0,First,#,Warehouses_Riverside_prelim,Warehouses_Riverside_prelim.RECORDER_M,0,16;BOOK \"BOOK\" true true false 4 Text 0 0,First,#,Warehouses_Riverside_prelim,Warehouses_Riverside_prelim.BOOK,0,4;PAGE \"PAGE\" true true false 4 Text 0 0,First,#,Warehouses_Riverside_prelim,Warehouses_Riverside_prelim.PAGE,0,4;MAP_BOOK_P \"MAP_BOOK_P\" true true false 16 Text 0 0,First,#,Warehouses_Riverside_prelim,Warehouses_Riverside_prelim.MAP_BOOK_P,0,16;COUNTY_COD \"COUNTY_COD\" true true false 2 Text 0 0,First,#,Warehouses_Riverside_prelim,Warehouses_Riverside_prelim.COUNTY_COD,0,2;LOT_TYPE \"LOT_TYPE\" true true false 16 Text 0 0,First,#,Warehouses_Riverside_prelim,Warehouses_Riverside_prelim.LOT_TYPE,0,16;LOT \"LOT\" true true false 64 Text 0 0,First,#,Warehouses_Riverside_prelim,Warehouses_Riverside_prelim.LOT,0,64;BLOCK \"BLOCK\" true true false 64 Text 0 0,First,#,Warehouses_Riverside_prelim,Warehouses_Riverside_prelim.BLOCK,0,64;CAME_FROM \"CAME_FROM\" true true false 254 Text 0 0,First,#,Warehouses_Riverside_prelim,Warehouses_Riverside_prelim.CAME_FROM,0,254;TAX_RATE_A \"TAX_RATE_A\" true true false 6 Text 0 0,First,#,Warehouses_Riverside_prelim,Warehouses_Riverside_prelim.TAX_RATE_A,0,6;LAND \"LAND\" true true false 19 Double 0 0,First,#,Warehouses_Riverside_prelim,Warehouses_Riverside_prelim.LAND,-1,-1;STRUCTURES \"STRUCTURES\" true true false 19 Double 0 0,First,#,Warehouses_Riverside_prelim,Warehouses_Riverside_prelim.STRUCTURES,-1,-1;PRIMARY_OW \"PRIMARY_OW\" true true false 128 Text 0 0,First,#,Warehouses_Riverside_prelim,Warehouses_Riverside_prelim.PRIMARY_OW,0,128;ALL_OWNER_ \"ALL_OWNER_\" true true false 254 Text 0 0,First,#,Warehouses_Riverside_prelim,Warehouses_Riverside_prelim.ALL_OWNER_,0,254;SHAPE_Leng \"SHAPE_Leng\" true true false 19 Double 0 0,First,#,Warehouses_Riverside_prelim,Warehouses_Riverside_prelim.SHAPE_Leng,-1,-1;SHAPE_Area \"SHAPE_Area\" true true false 19 Double 0 0,First,#,Warehouses_Riverside_prelim,Warehouses_Riverside_prelim.SHAPE_Area,-1,-1;OBJECTID \"OBJECTID\" false true false 4 Long 0 9,First,#,Warehouses_Riverside_prelim,CREST_PROPERTY_CHAR.OBJECTID,-1,-1;PIN \"PIN\" true true false 32 Text 0 0,First,#,Warehouses_Riverside_prelim,CREST_PROPERTY_CHAR.PIN,0,32;BUILDING_ID \"BUILDING_ID\" true true false 4 Long 0 0,First,#,Warehouses_Riverside_prelim,CREST_PROPERTY_CHAR.BUILDING_ID,-1,-1;STREET_SURFACED \"STREET_SURFACED\" true true false 32 Text 0 0,First,#,Warehouses_Riverside_prelim,CREST_PROPERTY_CHAR.STREET_SURFACED,0,32;YEAR_BUILT \"YEAR_BUILT\" true true false 4 Long 0 0,First,#,Warehouses_Riverside_prelim,CREST_PROPERTY_CHAR.YEAR_BUILT,-1,-1;NUMBER_OF_STORIES \"NUMBER_OF_STORIES\" true true false 4 Long 0 0,First,#,Warehouses_Riverside_prelim,CREST_PROPERTY_CHAR.NUMBER_OF_STORIES,-1,-1;ROOF_TYPE \"ROOF_TYPE\" true true false 64 Text 0 0,First,#,Warehouses_Riverside_prelim,CREST_PROPERTY_CHAR.ROOF_TYPE,0,64;GARAGE_TYPE \"GARAGE_TYPE\" true true false 64 Text 0 0,First,#,Warehouses_Riverside_prelim,CREST_PROPERTY_CHAR.GARAGE_TYPE,0,64;GARAGE_SIZE \"GARAGE_SIZE\" true true false 8 Double 0 0,First,#,Warehouses_Riverside_prelim,CREST_PROPERTY_CHAR.GARAGE_SIZE,-1,-1;CARPORT_SIZE \"CARPORT_SIZE\" true true false 8 Double 0 0,First,#,Warehouses_Riverside_prelim,CREST_PROPERTY_CHAR.CARPORT_SIZE,-1,-1;HAS_FIREPLACE \"HAS_FIREPLACE\" true true false 64 Text 0 0,First,#,Warehouses_Riverside_prelim,CREST_PROPERTY_CHAR.HAS_FIREPLACE,0,64;BATH_COUNT \"BATH_COUNT\" true true false 4 Long 0 0,First,#,Warehouses_Riverside_prelim,CREST_PROPERTY_CHAR.BATH_COUNT,-1,-1;CENTRAL_HEATING \"CENTRAL_HEATING\" true true false 64 Text 0 0,First,#,Warehouses_Riverside_prelim,CREST_PROPERTY_CHAR.CENTRAL_HEATING,0,64;CENTRAL_COOLING \"CENTRAL_COOLING\" true true false 64 Text 0 0,First,#,Warehouses_Riverside_prelim,CREST_PROPERTY_CHAR.CENTRAL_COOLING,0,64;DESIGN_TYPE \"DESIGN_TYPE\" true true false 64 Text 0 0,First,#,Warehouses_Riverside_prelim,CREST_PROPERTY_CHAR.DESIGN_TYPE,0,64;CONSTRUCTION_TYPE \"CONSTRUCTION_TYPE\" true true false 64 Text 0 0,First,#,Warehouses_Riverside_prelim,CREST_PROPERTY_CHAR.CONSTRUCTION_TYPE,0,64;QUALITY_CODE \"QUALITY_CODE\" true true false 64 Text 0 0,First,#,Warehouses_Riverside_prelim,CREST_PROPERTY_CHAR.QUALITY_CODE,0,64;SHAPE_CODE \"SHAPE_CODE\" true true false 64 Text 0 0,First,#,Warehouses_Riverside_prelim,CREST_PROPERTY_CHAR.SHAPE_CODE,0,64;LIVING_AREA \"LIVING_AREA\" true true false 8 Double 0 0,First,#,Warehouses_Riverside_prelim,CREST_PROPERTY_CHAR.LIVING_AREA,-1,-1;ACTUAL_AREA \"ACTUAL_AREA\" true true false 8 Double 0 0,First,#,Warehouses_Riverside_prelim,CREST_PROPERTY_CHAR.ACTUAL_AREA,-1,-1;HAS_POOL \"HAS_POOL\" true true false 8 Text 0 0,First,#,Warehouses_Riverside_prelim,CREST_PROPERTY_CHAR.HAS_POOL,0,8;BEDROOM_COUNT \"BEDROOM_COUNT\" true true false 4 Long 0 0,First,#,Warehouses_Riverside_prelim,CREST_PROPERTY_CHAR.BEDROOM_COUNT,-1,-1;FAIRWAY \"FAIRWAY\" true true false 64 Text 0 0,First,#,Warehouses_Riverside_prelim,CREST_PROPERTY_CHAR.FAIRWAY,0,64;WATERFRONT \"WATERFRONT\" true true false 64 Text 0 0,First,#,Warehouses_Riverside_prelim,CREST_PROPERTY_CHAR.WATERFRONT,0,64', '')\n",
    "m.removeLayer(m.listLayers('Industrial_Riverside_prelim*')[0])\n",
    "industrialLyr = m.listLayers('Industrial*')[0]\n",
    "industrialLyr.name = 'Industrial'\n",
    "sym = industrialLyr.symbology\n",
    "sym.renderer.symbol.color = {'CMYK' : [0, 96, 80, 0, 100]}\n",
    "sym.renderer.symbol.outlineColor = {'CMYK' : [0, 50, 100, 0, 0]}\n",
    "industrialLyr.symbology = sym\n",
    "industrialLyr.definitionQuery = None\n",
    "lytText.text = ''\n",
    "lytTextTotalArea.text = ''\n",
    "lytTextWarehouseCount.text = ''\n",
    "#lyt.exportToSVG(dst_path + r'\\RCwarehouses_industrial2021') #PNG or SVG\n"
   ]
  },
  {
   "cell_type": "code",
   "execution_count": 8,
   "metadata": {},
   "outputs": [],
   "source": [
    "####Joining the characteristics table to the parcel shapefile to include yearly growth in the analysis###\n",
    "warehouseLyr = m.listLayers('Warehouses*')[0]\n",
    "\n",
    "m.addDataFromPath(data_path + r'\\raw\\Riverside\\CREST_Tables.gdb\\CREST_PROPERTY_CHAR')\n",
    "arcpy.management.AddJoin(warehouseLyr, \"APN\", \n",
    "                         \"CREST_PROPERTY_CHAR\", \"PIN\", \n",
    "                         \"KEEP_ALL\", \"NO_INDEX_JOIN_FIELDS\")\n",
    "arcpy.conversion.FeatureClassToFeatureClass(\"Warehouses_Riverside_prelim\", r\"D:\\01_OntarioWarehouses\\InlandEmpireWarehouses\\data\\derived\", \"Warehouses_Riverside.shp\", '', 'APN \"APN\" true true false 32 Text 0 0,First,#,Warehouses_Riverside_prelim,Warehouses_Riverside_prelim.APN,0,32;FLAG \"FLAG\" true true false 2 Text 0 0,First,#,Warehouses_Riverside_prelim,Warehouses_Riverside_prelim.FLAG,0,2;MAIL_STREE \"MAIL_STREE\" true true false 64 Text 0 0,First,#,Warehouses_Riverside_prelim,Warehouses_Riverside_prelim.MAIL_STREE,0,64;MAIL_CITY \"MAIL_CITY\" true true false 48 Text 0 0,First,#,Warehouses_Riverside_prelim,Warehouses_Riverside_prelim.MAIL_CITY,0,48;SITUS_STRE \"SITUS_STRE\" true true false 64 Text 0 0,First,#,Warehouses_Riverside_prelim,Warehouses_Riverside_prelim.SITUS_STRE,0,64;SITUS_CITY \"SITUS_CITY\" true true false 48 Text 0 0,First,#,Warehouses_Riverside_prelim,Warehouses_Riverside_prelim.SITUS_CITY,0,48;STREET_NUM \"STREET_NUM\" true true false 10 Long 0 10,First,#,Warehouses_Riverside_prelim,Warehouses_Riverside_prelim.STREET_NUM,-1,-1;STREET_PRE \"STREET_PRE\" true true false 2 Text 0 0,First,#,Warehouses_Riverside_prelim,Warehouses_Riverside_prelim.STREET_PRE,0,2;STREET_NAM \"STREET_NAM\" true true false 64 Text 0 0,First,#,Warehouses_Riverside_prelim,Warehouses_Riverside_prelim.STREET_NAM,0,64;STREET_TYP \"STREET_TYP\" true true false 8 Text 0 0,First,#,Warehouses_Riverside_prelim,Warehouses_Riverside_prelim.STREET_TYP,0,8;STREET_SUF \"STREET_SUF\" true true false 16 Text 0 0,First,#,Warehouses_Riverside_prelim,Warehouses_Riverside_prelim.STREET_SUF,0,16;UNIT_NUMBE \"UNIT_NUMBE\" true true false 8 Text 0 0,First,#,Warehouses_Riverside_prelim,Warehouses_Riverside_prelim.UNIT_NUMBE,0,8;CITY \"CITY\" true true false 32 Text 0 0,First,#,Warehouses_Riverside_prelim,Warehouses_Riverside_prelim.CITY,0,32;ZIP_CODE \"ZIP_CODE\" true true false 16 Text 0 0,First,#,Warehouses_Riverside_prelim,Warehouses_Riverside_prelim.ZIP_CODE,0,16;CLASS_CODE \"CLASS_CODE\" true true false 64 Text 0 0,First,#,Warehouses_Riverside_prelim,Warehouses_Riverside_prelim.CLASS_CODE,0,64;MULTIPLE \"MULTIPLE\" true true false 64 Text 0 0,First,#,Warehouses_Riverside_prelim,Warehouses_Riverside_prelim.MULTIPLE,0,64;SUBDIVISIO \"SUBDIVISIO\" true true false 64 Text 0 0,First,#,Warehouses_Riverside_prelim,Warehouses_Riverside_prelim.SUBDIVISIO,0,64;ACREAGE \"ACREAGE\" true true false 19 Double 0 0,First,#,Warehouses_Riverside_prelim,Warehouses_Riverside_prelim.ACREAGE,-1,-1;RECORDER_M \"RECORDER_M\" true true false 16 Text 0 0,First,#,Warehouses_Riverside_prelim,Warehouses_Riverside_prelim.RECORDER_M,0,16;BOOK \"BOOK\" true true false 4 Text 0 0,First,#,Warehouses_Riverside_prelim,Warehouses_Riverside_prelim.BOOK,0,4;PAGE \"PAGE\" true true false 4 Text 0 0,First,#,Warehouses_Riverside_prelim,Warehouses_Riverside_prelim.PAGE,0,4;MAP_BOOK_P \"MAP_BOOK_P\" true true false 16 Text 0 0,First,#,Warehouses_Riverside_prelim,Warehouses_Riverside_prelim.MAP_BOOK_P,0,16;COUNTY_COD \"COUNTY_COD\" true true false 2 Text 0 0,First,#,Warehouses_Riverside_prelim,Warehouses_Riverside_prelim.COUNTY_COD,0,2;LOT_TYPE \"LOT_TYPE\" true true false 16 Text 0 0,First,#,Warehouses_Riverside_prelim,Warehouses_Riverside_prelim.LOT_TYPE,0,16;LOT \"LOT\" true true false 64 Text 0 0,First,#,Warehouses_Riverside_prelim,Warehouses_Riverside_prelim.LOT,0,64;BLOCK \"BLOCK\" true true false 64 Text 0 0,First,#,Warehouses_Riverside_prelim,Warehouses_Riverside_prelim.BLOCK,0,64;CAME_FROM \"CAME_FROM\" true true false 254 Text 0 0,First,#,Warehouses_Riverside_prelim,Warehouses_Riverside_prelim.CAME_FROM,0,254;TAX_RATE_A \"TAX_RATE_A\" true true false 6 Text 0 0,First,#,Warehouses_Riverside_prelim,Warehouses_Riverside_prelim.TAX_RATE_A,0,6;LAND \"LAND\" true true false 19 Double 0 0,First,#,Warehouses_Riverside_prelim,Warehouses_Riverside_prelim.LAND,-1,-1;STRUCTURES \"STRUCTURES\" true true false 19 Double 0 0,First,#,Warehouses_Riverside_prelim,Warehouses_Riverside_prelim.STRUCTURES,-1,-1;PRIMARY_OW \"PRIMARY_OW\" true true false 128 Text 0 0,First,#,Warehouses_Riverside_prelim,Warehouses_Riverside_prelim.PRIMARY_OW,0,128;ALL_OWNER_ \"ALL_OWNER_\" true true false 254 Text 0 0,First,#,Warehouses_Riverside_prelim,Warehouses_Riverside_prelim.ALL_OWNER_,0,254;SHAPE_Leng \"SHAPE_Leng\" true true false 19 Double 0 0,First,#,Warehouses_Riverside_prelim,Warehouses_Riverside_prelim.SHAPE_Leng,-1,-1;SHAPE_Area \"SHAPE_Area\" true true false 19 Double 0 0,First,#,Warehouses_Riverside_prelim,Warehouses_Riverside_prelim.SHAPE_Area,-1,-1;OBJECTID \"OBJECTID\" false true false 4 Long 0 9,First,#,Warehouses_Riverside_prelim,CREST_PROPERTY_CHAR.OBJECTID,-1,-1;PIN \"PIN\" true true false 32 Text 0 0,First,#,Warehouses_Riverside_prelim,CREST_PROPERTY_CHAR.PIN,0,32;BUILDING_ID \"BUILDING_ID\" true true false 4 Long 0 0,First,#,Warehouses_Riverside_prelim,CREST_PROPERTY_CHAR.BUILDING_ID,-1,-1;STREET_SURFACED \"STREET_SURFACED\" true true false 32 Text 0 0,First,#,Warehouses_Riverside_prelim,CREST_PROPERTY_CHAR.STREET_SURFACED,0,32;YEAR_BUILT \"YEAR_BUILT\" true true false 4 Long 0 0,First,#,Warehouses_Riverside_prelim,CREST_PROPERTY_CHAR.YEAR_BUILT,-1,-1;NUMBER_OF_STORIES \"NUMBER_OF_STORIES\" true true false 4 Long 0 0,First,#,Warehouses_Riverside_prelim,CREST_PROPERTY_CHAR.NUMBER_OF_STORIES,-1,-1;ROOF_TYPE \"ROOF_TYPE\" true true false 64 Text 0 0,First,#,Warehouses_Riverside_prelim,CREST_PROPERTY_CHAR.ROOF_TYPE,0,64;GARAGE_TYPE \"GARAGE_TYPE\" true true false 64 Text 0 0,First,#,Warehouses_Riverside_prelim,CREST_PROPERTY_CHAR.GARAGE_TYPE,0,64;GARAGE_SIZE \"GARAGE_SIZE\" true true false 8 Double 0 0,First,#,Warehouses_Riverside_prelim,CREST_PROPERTY_CHAR.GARAGE_SIZE,-1,-1;CARPORT_SIZE \"CARPORT_SIZE\" true true false 8 Double 0 0,First,#,Warehouses_Riverside_prelim,CREST_PROPERTY_CHAR.CARPORT_SIZE,-1,-1;HAS_FIREPLACE \"HAS_FIREPLACE\" true true false 64 Text 0 0,First,#,Warehouses_Riverside_prelim,CREST_PROPERTY_CHAR.HAS_FIREPLACE,0,64;BATH_COUNT \"BATH_COUNT\" true true false 4 Long 0 0,First,#,Warehouses_Riverside_prelim,CREST_PROPERTY_CHAR.BATH_COUNT,-1,-1;CENTRAL_HEATING \"CENTRAL_HEATING\" true true false 64 Text 0 0,First,#,Warehouses_Riverside_prelim,CREST_PROPERTY_CHAR.CENTRAL_HEATING,0,64;CENTRAL_COOLING \"CENTRAL_COOLING\" true true false 64 Text 0 0,First,#,Warehouses_Riverside_prelim,CREST_PROPERTY_CHAR.CENTRAL_COOLING,0,64;DESIGN_TYPE \"DESIGN_TYPE\" true true false 64 Text 0 0,First,#,Warehouses_Riverside_prelim,CREST_PROPERTY_CHAR.DESIGN_TYPE,0,64;CONSTRUCTION_TYPE \"CONSTRUCTION_TYPE\" true true false 64 Text 0 0,First,#,Warehouses_Riverside_prelim,CREST_PROPERTY_CHAR.CONSTRUCTION_TYPE,0,64;QUALITY_CODE \"QUALITY_CODE\" true true false 64 Text 0 0,First,#,Warehouses_Riverside_prelim,CREST_PROPERTY_CHAR.QUALITY_CODE,0,64;SHAPE_CODE \"SHAPE_CODE\" true true false 64 Text 0 0,First,#,Warehouses_Riverside_prelim,CREST_PROPERTY_CHAR.SHAPE_CODE,0,64;LIVING_AREA \"LIVING_AREA\" true true false 8 Double 0 0,First,#,Warehouses_Riverside_prelim,CREST_PROPERTY_CHAR.LIVING_AREA,-1,-1;ACTUAL_AREA \"ACTUAL_AREA\" true true false 8 Double 0 0,First,#,Warehouses_Riverside_prelim,CREST_PROPERTY_CHAR.ACTUAL_AREA,-1,-1;HAS_POOL \"HAS_POOL\" true true false 8 Text 0 0,First,#,Warehouses_Riverside_prelim,CREST_PROPERTY_CHAR.HAS_POOL,0,8;BEDROOM_COUNT \"BEDROOM_COUNT\" true true false 4 Long 0 0,First,#,Warehouses_Riverside_prelim,CREST_PROPERTY_CHAR.BEDROOM_COUNT,-1,-1;FAIRWAY \"FAIRWAY\" true true false 64 Text 0 0,First,#,Warehouses_Riverside_prelim,CREST_PROPERTY_CHAR.FAIRWAY,0,64;WATERFRONT \"WATERFRONT\" true true false 64 Text 0 0,First,#,Warehouses_Riverside_prelim,CREST_PROPERTY_CHAR.WATERFRONT,0,64', '')\n",
    "m.removeLayer(m.listLayers('Warehouses_Riverside_prelim*')[0])\n",
    "warehouseLyr = m.listLayers('Warehouses*')[0]\n",
    "\n",
    "\n"
   ]
  },
  {
   "cell_type": "code",
   "execution_count": 9,
   "metadata": {},
   "outputs": [],
   "source": [
    "#Updating symbology of the warehouse layer\n",
    "warehouseLyr.name = 'Warehouses'\n",
    "sym = warehouseLyr.symbology\n",
    "sym.renderer.symbol.color = {'CMYK' : [0, 50, 100, 0, 100]}\n",
    "sym.renderer.symbol.outlineColor = {'CMYK' : [0, 50, 100, 0, 0]}\n",
    "warehouseLyr.symbology = sym"
   ]
  },
  {
   "cell_type": "code",
   "execution_count": 10,
   "metadata": {},
   "outputs": [
    {
     "name": "stdout",
     "output_type": "stream",
     "text": [
      "Warehouses has 948 records covering ~275465584 square feet of land in Riverside County.\n",
      "calculating area and count of warehouses in Riverside for year  1975\n",
      "calculating area and count of warehouses in Riverside for year  1980\n",
      "calculating area and count of warehouses in Riverside for year  1985\n",
      "calculating area and count of warehouses in Riverside for year  1990\n",
      "calculating area and count of warehouses in Riverside for year  1995\n",
      "calculating area and count of warehouses in Riverside for year  2000\n",
      "calculating area and count of warehouses in Riverside for year  2005\n",
      "calculating area and count of warehouses in Riverside for year  2010\n",
      "calculating area and count of warehouses in Riverside for year  2015\n",
      "calculating area and count of warehouses in Riverside for year  2020\n"
     ]
    }
   ],
   "source": [
    "###Calculating total area and count of warehouses for the county###\n",
    "arcpy.SelectLayerByAttribute_management(warehouseLyr, \"CLEAR_SELECTION\")\n",
    "warehouseLyr.definitionQuery = None\n",
    "\n",
    "areaRiv = sum([row[0] for row in arcpy.da.SearchCursor(warehouseLyr, \"SHAPE_Area\")])\n",
    "areaRiv = round(areaRiv)\n",
    "countRiv = arcpy.management.GetCount(warehouseLyr)\n",
    "print('{} has {} records covering ~{} square feet of land in Riverside County.'.format(warehouseLyr, countRiv[0], areaRiv))\n",
    "\n",
    "warehouseLyr.definitionQuery = \"YEAR_BUILT = 0\"\n",
    "areaRivZero = sum([row[0] for row in arcpy.da.SearchCursor(warehouseLyr, \"SHAPE_Area\")])\n",
    "areaRivZero = round(areaRivZero)\n",
    "countRivZero = arcpy.management.GetCount(warehouseLyr)\n",
    "warehouseLyr.definitionQuery = None\n",
    "\n",
    "OutList = []\n",
    "totalCount = 0\n",
    "sumAreas = 0\n",
    "\n",
    "for year in ListOfYears:\n",
    "    arcpy.management.SelectLayerByAttribute(warehouseLyr, 'NEW_SELECTION', \"YEAR_BUILT <= \" + year + \" And YEAR_BUILT <> 0 And YEAR_BUILT <> 1776\")\n",
    "    areas = [row[0] for row in arcpy.da.SearchCursor(warehouseLyr, \"SHAPE_Area\")]\n",
    "    sumAreas = sum(areas)\n",
    "    totalCount = len(areas)\n",
    "    print('calculating area and count of warehouses in Riverside for year ', year)\n",
    "    OutList.append([year, sumAreas, totalCount])\n",
    "    \n",
    "arcpy.SelectLayerByAttribute_management(warehouseLyr, \"CLEAR_SELECTION\")\n",
    "\n",
    "AreaByYear = np.array(OutList)\n",
    "struct_array = numpy.core.records.fromarrays(\n",
    "    AreaByYear.transpose(), numpy.dtype([('Year', '<i8'), ('AreaTotal', '<f8'), ('WarehousesCount', '<i8')]))\n",
    "arcpy.da.NumPyArrayToTable(struct_array, data_path + r'\\temp.gdb\\AreaCountByYearRiverside')\n",
    "m.addDataFromPath(data_path + r'\\temp.gdb\\AreaCountByYearRiverside')\n",
    "\n",
    "AreaTable = m.listTables(\"AreaCountByYear*\")[0]\n",
    "delimfield = arcpy.AddFieldDelimiters(AreaTable, 'Year')"
   ]
  },
  {
   "cell_type": "code",
   "execution_count": 11,
   "metadata": {},
   "outputs": [
    {
     "name": "stdout",
     "output_type": "stream",
     "text": [
      "assessing year:  1975\n",
      "assessing year:  1980\n",
      "assessing year:  1985\n",
      "assessing year:  1990\n",
      "assessing year:  1995\n",
      "assessing year:  2000\n",
      "assessing year:  2005\n",
      "assessing year:  2010\n",
      "assessing year:  2015\n",
      "assessing year:  2020\n",
      "assessing Riverside County all entries.\n"
     ]
    },
    {
     "data": {
      "text/plain": [
       "'D:\\\\01_OntarioWarehouses\\\\InlandEmpireWarehouses\\\\maps\\\\RCwarehouses2021.png'"
      ]
     },
     "execution_count": 11,
     "metadata": {},
     "output_type": "execute_result"
    }
   ],
   "source": [
    "arcpy.SelectLayerByAttribute_management(warehouseLyr, \"CLEAR_SELECTION\")\n",
    "for year in ListOfYears:\n",
    "    warehouseLyr.definitionQuery = \"YEAR_BUILT <= \" + year + \" And YEAR_BUILT <> 0 And YEAR_BUILT <> 1776\"\n",
    "    with arcpy.da.SearchCursor(AreaTable, 'AreaTotal', where_clause=delimfield +' = ' + str(year)) as cursor:\n",
    "        for row in cursor:\n",
    "            totalArea = row[0]\n",
    "            totalArea = round(totalArea)\n",
    "    with arcpy.da.SearchCursor(AreaTable, 'WarehousesCount', where_clause=delimfield +' = ' + str(year)) as cursor:\n",
    "        for row in cursor:\n",
    "            warehousesCount = row[0]\n",
    "    lytText.text = 'Distribution in ' + str(year)\n",
    "    lytTextTotalArea.text = 'Area Occupied by Warehouses: '+ str(addCommas(totalArea)) + ' ft<sup>2</sup>'\n",
    "    lytTextWarehouseCount.text = 'Total Number of Warehouses: ' + str(addCommas(warehousesCount))\n",
    "    print('assessing year: ', year)\n",
    "    arcpy.SelectLayerByAttribute_management(warehouseLyr, \"CLEAR_SELECTION\")\n",
    "    lyt.exportToPDF(dst_path + r'\\RCwarehouses' + str(year)) #PNG or SVG\n",
    "    lyt.exportToSVG(dst_path + r'\\RCwarehouses' + str(year)) #PNG or SVG\n",
    "    lyt.exportToPNG(dst_path + r'\\RCwarehouses' + str(year)) #PNG or SVG\n",
    "arcpy.Delete_management(data_path + r'\\temp.gdb\\AreaCountByYearRiverside')\n",
    "warehouseLyr.definitionQuery = None\n",
    "lytText.text = 'Distribution in 2021'\n",
    "lytTextTotalArea.text = 'Area Occupied by Warehouses: '+ str(addCommas(round(float(areaRiv)))) + ' ft<sup>2</sup>'\n",
    "lytTextWarehouseCount.text = 'Total Number of Warehouses: ' + str(addCommas(int(countRiv[0])))\n",
    "print('assessing Riverside County all entries.')\n",
    "lyt.exportToPDF(dst_path + r'\\RCwarehouses2021') #PNG or SVG\n",
    "lyt.exportToSVG(dst_path + r'\\RCwarehouses2021') #PNG or SVG\n",
    "lyt.exportToPNG(dst_path + r'\\RCwarehouses2021') #PNG or SVG\n"
   ]
  },
  {
   "cell_type": "markdown",
   "metadata": {},
   "source": [
    "![Riverside County Warehouses in 2021](RCwarehouses2021.svg)"
   ]
  },
  {
   "cell_type": "markdown",
   "metadata": {},
   "source": [
    "### After completing the county-level analyses, we repeat the same workflow to a merged shapefile of the two counties. "
   ]
  },
  {
   "cell_type": "code",
   "execution_count": 84,
   "metadata": {},
   "outputs": [],
   "source": [
    "####Initiate the the combined map environment and process fields to \n",
    "####create a single year attribute for parcels (not specific to its origin county)####\n",
    "\n",
    "aprx = arcpy.mp.ArcGISProject(\"Current\")\n",
    "lyt = aprx.listLayouts(\"LayoutAll\")[0]\n",
    "m = aprx.listMaps(\"WarehousesAll\")[0]\n",
    "lytText = lyt.listElements(\"TEXT_ELEMENT\", \"YearsDisplayedText\")[0]\n",
    "lytTextTotalArea = lyt.listElements(\"TEXT_ELEMENT\", \"TotalArea\")[0]\n",
    "lytTextDisclaimer = lyt.listElements(\"TEXT_ELEMENT\", \"disclaimer\")[0]\n",
    "lytTextWarehouseCount = lyt.listElements(\"TEXT_ELEMENT\", \"WarehouseCount\")[0]\n",
    "logo = lyt.listElements(\"PICTURE_ELEMENT\", 'RRC_Logo')[0]\n",
    "logo.visible = True\n",
    "northArrow = lyt.listElements(\"MAPSURROUND_ELEMENT\",'North Arrow')[0]\n",
    "####All warehouses merge###\n",
    "arcpy.management.Merge(r\"D:\\01_OntarioWarehouses\\InlandEmpireWarehouses\\data\\derived\\Warehouses_SanBernardino.shp;D:\\01_OntarioWarehouses\\InlandEmpireWarehouses\\data\\derived\\Warehouses_Riverside.shp\", r\"D:\\01_OntarioWarehouses\\InlandEmpireWarehouses\\data\\derived\\Warehouses_Merged.shp\", None, \"NO_SOURCE_INFO\")\n",
    "warehouseLyr = m.listLayers('Warehouses_Merged*')[0]\n"
   ]
  },
  {
   "cell_type": "code",
   "execution_count": 85,
   "metadata": {},
   "outputs": [
    {
     "data": {
      "text/html": [
       "<div class='gpresult'><h2>Messages</h2><div id='messages' data-messages='[\"Start Time: Tuesday, May 3, 2022 3:00:00 PM\",\"Succeeded at Tuesday, May 3, 2022 3:00:01 PM (Elapsed Time: 1.03 seconds)\"]' data-show='true'><div id = 'default' /></div></div>"
      ],
      "text/plain": [
       "<Result 'Warehouses'>"
      ]
     },
     "execution_count": 85,
     "metadata": {},
     "output_type": "execute_result"
    }
   ],
   "source": [
    "#Updating symbology of the warehouse layer\n",
    "warehouseLyr.name = 'Warehouses'\n",
    "sym = warehouseLyr.symbology\n",
    "sym.renderer.symbol.color = {'CMYK' : [0, 50, 100, 0, 100]}\n",
    "sym.renderer.symbol.outlineColor = {'CMYK' : [0, 50, 100, 0, 0]}\n",
    "warehouseLyr.symbology = sym\n",
    "\n",
    "arcpy.AddField_management(warehouseLyr, \"YEAR\", \"LONG\")\n",
    "arcpy.management.CalculateField(warehouseLyr, \"YEAR\", \"foo(!BASE_YEAR!, !YEAR_BUILT!)\", \"PYTHON3\", \"\"\"def foo(sb, r):\n",
    "    if r == 0 and sb != 0: \n",
    "        return sb \n",
    "    elif sb == 0 and (r !=0):\n",
    "        return r\n",
    "    else:\n",
    "        return 0\"\"\", \"TEXT\", \"NO_ENFORCE_DOMAINS\")\n"
   ]
  },
  {
   "cell_type": "code",
   "execution_count": 86,
   "metadata": {},
   "outputs": [
    {
     "name": "stdout",
     "output_type": "stream",
     "text": [
      "Warehouses has 4299 records covering ~1,041,229,078.9496417 square feet of land in the two counties.\n",
      "The Warehouses data show 314 records covering ~88,355,206.73399296 square feet of land in the two counties with no usable year datum.\n"
     ]
    }
   ],
   "source": [
    "###Calculate total area and count of warehouses for the county###\n",
    "warehouseLyr.definitionQuery = None\n",
    "areaAll = sum([row[0] for row in arcpy.da.SearchCursor(warehouseLyr, \"Shape_Area\")])\n",
    "countAll = arcpy.management.GetCount(warehouseLyr)\n",
    "print('{} has {} records covering ~{} square feet of land in the two counties.'.format(warehouseLyr, countAll[0], addCommas(areaAll)))\n",
    "\n",
    "warehouseLyr.definitionQuery =  \"YEAR = 0 Or YEAR = 1776\"\n",
    "areaZeroAll = sum([row[0] for row in arcpy.da.SearchCursor(warehouseLyr, \"Shape_Area\")])\n",
    "countZeroAll = arcpy.management.GetCount(warehouseLyr)\n",
    "print('The {} data show {} records covering ~{} square feet of land in the two counties with no usable year datum.'.format(warehouseLyr, countZeroAll[0], addCommas(areaZeroAll)))\n",
    "warehouseLyr.definitionQuery = None"
   ]
  },
  {
   "cell_type": "code",
   "execution_count": 87,
   "metadata": {},
   "outputs": [
    {
     "name": "stdout",
     "output_type": "stream",
     "text": [
      "calculating area and count of warehouses in both counties for year  1975\n",
      "sum areas is  14665553.726207228  and total count is  162\n",
      "calculating area and count of warehouses in both counties for year  1980\n",
      "sum areas is  22574120.742064003  and total count is  234\n",
      "calculating area and count of warehouses in both counties for year  1985\n",
      "sum areas is  31254458.03394447  and total count is  352\n",
      "calculating area and count of warehouses in both counties for year  1990\n",
      "sum areas is  56665852.62499533  and total count is  534\n",
      "calculating area and count of warehouses in both counties for year  1995\n",
      "sum areas is  87808390.19363551  and total count is  653\n",
      "calculating area and count of warehouses in both counties for year  2000\n",
      "sum areas is  168559472.25186104  and total count is  970\n",
      "calculating area and count of warehouses in both counties for year  2005\n",
      "sum areas is  300935721.3297937  and total count is  1574\n",
      "calculating area and count of warehouses in both counties for year  2010\n",
      "sum areas is  406043080.6157298  and total count is  2089\n",
      "calculating area and count of warehouses in both counties for year  2015\n",
      "sum areas is  590963477.9513261  and total count is  2757\n",
      "calculating area and count of warehouses in both counties for year  2020\n",
      "sum areas is  888267256.4510652  and total count is  3727\n"
     ]
    }
   ],
   "source": [
    "OutList = []\n",
    "\n",
    "totalCount = 0\n",
    "sumAreas = 0\n",
    "\n",
    "for year in ListOfYears:\n",
    "    arcpy.management.SelectLayerByAttribute(warehouseLyr, 'NEW_SELECTION', \"YEAR <= \" + year + \" And YEAR <> 0 And YEAR <> 1776\")\n",
    "    areas = [row[0] for row in arcpy.da.SearchCursor(warehouseLyr, \"Shape_Area\")]\n",
    "    sumAreas = sum(areas)\n",
    "    totalCount = len(areas)\n",
    "    print('calculating area and count of warehouses in both counties for year ', year)\n",
    "    print('sum areas is ',sumAreas,' and total count is ',totalCount)\n",
    "    OutList.append([year, sumAreas, totalCount])\n",
    "arcpy.SelectLayerByAttribute_management(warehouseLyr, \"CLEAR_SELECTION\")\n",
    "\n",
    "AreaByYear = np.array(OutList)\n",
    "struct_array = numpy.core.records.fromarrays(\n",
    "    AreaByYear.transpose(), numpy.dtype([('Year', '<i8'), ('AreaTotal', '<f8'), ('WarehousesCount', '<i8')]))\n",
    "arcpy.da.NumPyArrayToTable(struct_array, data_path + r'\\temp.gdb\\AreaCountByYearAll')\n",
    "m.addDataFromPath(data_path + r'\\temp.gdb\\AreaCountByYearAll')\n",
    "\n",
    "AreaTable = m.listTables(\"AreaCountByYearAll*\")[0]\n",
    "delimfield = arcpy.AddFieldDelimiters(AreaTable, 'Year')"
   ]
  },
  {
   "cell_type": "code",
   "execution_count": 88,
   "metadata": {},
   "outputs": [
    {
     "name": "stdout",
     "output_type": "stream",
     "text": [
      "gathering area:  14665554\n",
      "gathering count: 162\n",
      "assessing year:  1975\n",
      "gathering area:  22574121\n",
      "gathering count: 234\n",
      "assessing year:  1980\n",
      "gathering area:  31254458\n",
      "gathering count: 352\n",
      "assessing year:  1985\n",
      "gathering area:  56665853\n",
      "gathering count: 534\n",
      "assessing year:  1990\n",
      "gathering area:  87808390\n",
      "gathering count: 653\n",
      "assessing year:  1995\n",
      "gathering area:  168559472\n",
      "gathering count: 970\n",
      "assessing year:  2000\n",
      "gathering area:  300935721\n",
      "gathering count: 1574\n",
      "assessing year:  2005\n",
      "gathering area:  406043081\n",
      "gathering count: 2089\n",
      "assessing year:  2010\n",
      "gathering area:  590963478\n",
      "gathering count: 2757\n",
      "assessing year:  2015\n",
      "gathering area:  888267256\n",
      "gathering count: 3727\n",
      "assessing year:  2020\n",
      "assessing both counties all entries.\n"
     ]
    },
    {
     "data": {
      "text/plain": [
       "'D:\\\\01_OntarioWarehouses\\\\InlandEmpireWarehouses\\\\maps\\\\SBRCwarehouses2021_noLogo.svg'"
      ]
     },
     "execution_count": 88,
     "metadata": {},
     "output_type": "execute_result"
    }
   ],
   "source": [
    "arcpy.SelectLayerByAttribute_management(warehouseLyr, \"CLEAR_SELECTION\")\n",
    "for year in ListOfYears:\n",
    "    warehouseLyr.definitionQuery = \"YEAR <= \" + year + \" And YEAR <> 0 And YEAR <> 1776\"\n",
    "    with arcpy.da.SearchCursor(AreaTable, 'AreaTotal', where_clause=delimfield +' = ' + str(year)) as cursor:\n",
    "        for row in cursor:\n",
    "            totalArea = row[0]\n",
    "            totalArea = round(totalArea)\n",
    "            print('gathering area: ', totalArea)\n",
    "    with arcpy.da.SearchCursor(AreaTable, 'WarehousesCount', where_clause=delimfield +' = ' + str(year)) as cursor:\n",
    "        for row in cursor:\n",
    "            warehousesCount = row[0]\n",
    "            print('gathering count:', row[0])\n",
    "    lytText.text = 'Distribution in ' + str(year)\n",
    "    lytTextTotalArea.text = 'Area Occupied by Warehouses: '+ str(addCommas(totalArea)) + ' ft<sup>2</sup>'\n",
    "    lytTextWarehouseCount.text = 'Total Number of Warehouses: ' + str(addCommas(warehousesCount))\n",
    "    print('assessing year: ', year)\n",
    "    arcpy.SelectLayerByAttribute_management(warehouseLyr, \"CLEAR_SELECTION\")\n",
    "    lyt.exportToPDF(dst_path + r'\\SBRCwarehouses' + str(year)) #PNG or SVG\n",
    "    lyt.exportToSVG(dst_path + r'\\SBRCwarehouses' + str(year)) #PNG or SVG\n",
    "    lyt.exportToPNG(dst_path + r'\\SBRCwarehouses' + str(year)) #PNG or SVG\n",
    "arcpy.Delete_management(data_path + r'\\temp.gdb\\AreaCountByYearAll')\n",
    "warehouseLyr.definitionQuery = None\n",
    "lytText.text = 'Distribution in 2021'\n",
    "lytTextTotalArea.text = 'Area Occupied by Warehouses: '+ str(addCommas(round(float(areaAll)))) + ' ft<sup>2</sup>'\n",
    "lytTextWarehouseCount.text = 'Total Number of Warehouses: ' + str(addCommas(int(countAll[0])))\n",
    "print('assessing both counties all entries.')\n",
    "updateNorthArrow(logo,northArrow)\n",
    "lyt.exportToPDF(dst_path + r'\\SBRCwarehouses2021_wLogo') #PNG or SVG\n",
    "lyt.exportToSVG(dst_path + r'\\SBRCwarehouses2021_wLogo') #PNG or SVG\n",
    "lyt.exportToPNG(dst_path + r'\\SBRCwarehouses2021_wLogo') #PNG or SVG\n",
    "logo.visible=False\n",
    "updateNorthArrow(logo,northArrow)\n",
    "lyt.exportToPNG(dst_path + r'\\SBRCwarehouses2021_noLogo') #PNG or SVG\n",
    "lyt.exportToPDF(dst_path + r'\\SBRCwarehouses2021_noLogo') #PNG or SVG\n",
    "lyt.exportToSVG(dst_path + r'\\SBRCwarehouses2021_noLogo') #PNG or SVG"
   ]
  },
  {
   "cell_type": "markdown",
   "metadata": {},
   "source": [
    "![All County Warehouses in 2021](SBRCwarehouses2021_wLogo.svg)"
   ]
  },
  {
   "cell_type": "markdown",
   "metadata": {},
   "source": [
    "#### To check the final data reductions using our workflow, a simple dictionary of values gathered along the way can be useful."
   ]
  },
  {
   "cell_type": "code",
   "execution_count": 89,
   "metadata": {},
   "outputs": [],
   "source": [
    "d = {'county' : ['Riverside','San Bernardino', 'all', 'all no years'], 'WarehouseCount' : [countRiv[0],countSB[0],countAll[0],countZeroAll[0]], 'WarehouseArea': [areaRiv,areaSB,areaAll,areaZeroAll]}\n",
    "pd.DataFrame(d).to_csv(r\"D:\\01_OntarioWarehouses\\WarehouseStudy\\Riverside GIS Data\\RiversideWarehouses\\FinalWarehousesData.csv\")"
   ]
  },
  {
   "cell_type": "markdown",
   "metadata": {},
   "source": [
    "# Riverside County with parcels attributed as \"industrial\""
   ]
  },
  {
   "cell_type": "code",
   "execution_count": null,
   "metadata": {},
   "outputs": [],
   "source": [
    "######Riverside Parcel Subselection Process with indsutrial codes#####\n",
    "m.addDataFromPath(data_path + r'\\raw\\Riverside\\ParcelAttributed.gdb\\PARCELS_CREST')\n",
    "parcels = m.listLayers('PARCELS_CREST')[0]\n",
    "parcel_types = pd.DataFrame(unique_values(parcels, 'CLASS_CODE'))\n",
    "industrial_codes = parcel_types[parcel_types[0].str.lower().str.contains('industrial')]\n",
    "for parcel_type in industrial_codes[0].tolist():\n",
    "    query = \"CLASS_CODE = \" + \"'\" + str(parcel_type) + \"'\"\n",
    "    arcpy.management.SelectLayerByAttribute(parcels,\"ADD_TO_SELECTION\",query)\n",
    "arcpy.management.CopyFeatures(parcels, data_path + r'\\derived\\Industrial_Riverside_prelim.shp')\n",
    "arcpy.SelectLayerByAttribute_management(parcels, \"CLEAR_SELECTION\")\n",
    "m.removeLayer(m.listLayers('PARCELS_CREST')[0])\n",
    "industrial_codes\n",
    "\n",
    "industrialLyr = m.listLayers('Industrial*')[0]\n",
    "\n",
    "m.addDataFromPath(data_path + r'\\raw\\Riverside\\CREST_Tables.gdb\\CREST_PROPERTY_CHAR')\n",
    "arcpy.management.AddJoin(industrialLyr, \"APN\", \n",
    "                         \"CREST_PROPERTY_CHAR\", \"PIN\", \n",
    "                         \"KEEP_ALL\", \"NO_INDEX_JOIN_FIELDS\")\n",
    "arcpy.conversion.FeatureClassToFeatureClass(\"Industrial_Riverside_prelim\", r\"D:\\01_OntarioWarehouses\\InlandEmpireWarehouses\\data\\derived\", \"Industrial_Riverside.shp\", '', 'APN \"APN\" true true false 32 Text 0 0,First,#,Warehouses_Riverside_prelim,Warehouses_Riverside_prelim.APN,0,32;FLAG \"FLAG\" true true false 2 Text 0 0,First,#,Warehouses_Riverside_prelim,Warehouses_Riverside_prelim.FLAG,0,2;MAIL_STREE \"MAIL_STREE\" true true false 64 Text 0 0,First,#,Warehouses_Riverside_prelim,Warehouses_Riverside_prelim.MAIL_STREE,0,64;MAIL_CITY \"MAIL_CITY\" true true false 48 Text 0 0,First,#,Warehouses_Riverside_prelim,Warehouses_Riverside_prelim.MAIL_CITY,0,48;SITUS_STRE \"SITUS_STRE\" true true false 64 Text 0 0,First,#,Warehouses_Riverside_prelim,Warehouses_Riverside_prelim.SITUS_STRE,0,64;SITUS_CITY \"SITUS_CITY\" true true false 48 Text 0 0,First,#,Warehouses_Riverside_prelim,Warehouses_Riverside_prelim.SITUS_CITY,0,48;STREET_NUM \"STREET_NUM\" true true false 10 Long 0 10,First,#,Warehouses_Riverside_prelim,Warehouses_Riverside_prelim.STREET_NUM,-1,-1;STREET_PRE \"STREET_PRE\" true true false 2 Text 0 0,First,#,Warehouses_Riverside_prelim,Warehouses_Riverside_prelim.STREET_PRE,0,2;STREET_NAM \"STREET_NAM\" true true false 64 Text 0 0,First,#,Warehouses_Riverside_prelim,Warehouses_Riverside_prelim.STREET_NAM,0,64;STREET_TYP \"STREET_TYP\" true true false 8 Text 0 0,First,#,Warehouses_Riverside_prelim,Warehouses_Riverside_prelim.STREET_TYP,0,8;STREET_SUF \"STREET_SUF\" true true false 16 Text 0 0,First,#,Warehouses_Riverside_prelim,Warehouses_Riverside_prelim.STREET_SUF,0,16;UNIT_NUMBE \"UNIT_NUMBE\" true true false 8 Text 0 0,First,#,Warehouses_Riverside_prelim,Warehouses_Riverside_prelim.UNIT_NUMBE,0,8;CITY \"CITY\" true true false 32 Text 0 0,First,#,Warehouses_Riverside_prelim,Warehouses_Riverside_prelim.CITY,0,32;ZIP_CODE \"ZIP_CODE\" true true false 16 Text 0 0,First,#,Warehouses_Riverside_prelim,Warehouses_Riverside_prelim.ZIP_CODE,0,16;CLASS_CODE \"CLASS_CODE\" true true false 64 Text 0 0,First,#,Warehouses_Riverside_prelim,Warehouses_Riverside_prelim.CLASS_CODE,0,64;MULTIPLE \"MULTIPLE\" true true false 64 Text 0 0,First,#,Warehouses_Riverside_prelim,Warehouses_Riverside_prelim.MULTIPLE,0,64;SUBDIVISIO \"SUBDIVISIO\" true true false 64 Text 0 0,First,#,Warehouses_Riverside_prelim,Warehouses_Riverside_prelim.SUBDIVISIO,0,64;ACREAGE \"ACREAGE\" true true false 19 Double 0 0,First,#,Warehouses_Riverside_prelim,Warehouses_Riverside_prelim.ACREAGE,-1,-1;RECORDER_M \"RECORDER_M\" true true false 16 Text 0 0,First,#,Warehouses_Riverside_prelim,Warehouses_Riverside_prelim.RECORDER_M,0,16;BOOK \"BOOK\" true true false 4 Text 0 0,First,#,Warehouses_Riverside_prelim,Warehouses_Riverside_prelim.BOOK,0,4;PAGE \"PAGE\" true true false 4 Text 0 0,First,#,Warehouses_Riverside_prelim,Warehouses_Riverside_prelim.PAGE,0,4;MAP_BOOK_P \"MAP_BOOK_P\" true true false 16 Text 0 0,First,#,Warehouses_Riverside_prelim,Warehouses_Riverside_prelim.MAP_BOOK_P,0,16;COUNTY_COD \"COUNTY_COD\" true true false 2 Text 0 0,First,#,Warehouses_Riverside_prelim,Warehouses_Riverside_prelim.COUNTY_COD,0,2;LOT_TYPE \"LOT_TYPE\" true true false 16 Text 0 0,First,#,Warehouses_Riverside_prelim,Warehouses_Riverside_prelim.LOT_TYPE,0,16;LOT \"LOT\" true true false 64 Text 0 0,First,#,Warehouses_Riverside_prelim,Warehouses_Riverside_prelim.LOT,0,64;BLOCK \"BLOCK\" true true false 64 Text 0 0,First,#,Warehouses_Riverside_prelim,Warehouses_Riverside_prelim.BLOCK,0,64;CAME_FROM \"CAME_FROM\" true true false 254 Text 0 0,First,#,Warehouses_Riverside_prelim,Warehouses_Riverside_prelim.CAME_FROM,0,254;TAX_RATE_A \"TAX_RATE_A\" true true false 6 Text 0 0,First,#,Warehouses_Riverside_prelim,Warehouses_Riverside_prelim.TAX_RATE_A,0,6;LAND \"LAND\" true true false 19 Double 0 0,First,#,Warehouses_Riverside_prelim,Warehouses_Riverside_prelim.LAND,-1,-1;STRUCTURES \"STRUCTURES\" true true false 19 Double 0 0,First,#,Warehouses_Riverside_prelim,Warehouses_Riverside_prelim.STRUCTURES,-1,-1;PRIMARY_OW \"PRIMARY_OW\" true true false 128 Text 0 0,First,#,Warehouses_Riverside_prelim,Warehouses_Riverside_prelim.PRIMARY_OW,0,128;ALL_OWNER_ \"ALL_OWNER_\" true true false 254 Text 0 0,First,#,Warehouses_Riverside_prelim,Warehouses_Riverside_prelim.ALL_OWNER_,0,254;SHAPE_Leng \"SHAPE_Leng\" true true false 19 Double 0 0,First,#,Warehouses_Riverside_prelim,Warehouses_Riverside_prelim.SHAPE_Leng,-1,-1;SHAPE_Area \"SHAPE_Area\" true true false 19 Double 0 0,First,#,Warehouses_Riverside_prelim,Warehouses_Riverside_prelim.SHAPE_Area,-1,-1;OBJECTID \"OBJECTID\" false true false 4 Long 0 9,First,#,Warehouses_Riverside_prelim,CREST_PROPERTY_CHAR.OBJECTID,-1,-1;PIN \"PIN\" true true false 32 Text 0 0,First,#,Warehouses_Riverside_prelim,CREST_PROPERTY_CHAR.PIN,0,32;BUILDING_ID \"BUILDING_ID\" true true false 4 Long 0 0,First,#,Warehouses_Riverside_prelim,CREST_PROPERTY_CHAR.BUILDING_ID,-1,-1;STREET_SURFACED \"STREET_SURFACED\" true true false 32 Text 0 0,First,#,Warehouses_Riverside_prelim,CREST_PROPERTY_CHAR.STREET_SURFACED,0,32;YEAR_BUILT \"YEAR_BUILT\" true true false 4 Long 0 0,First,#,Warehouses_Riverside_prelim,CREST_PROPERTY_CHAR.YEAR_BUILT,-1,-1;NUMBER_OF_STORIES \"NUMBER_OF_STORIES\" true true false 4 Long 0 0,First,#,Warehouses_Riverside_prelim,CREST_PROPERTY_CHAR.NUMBER_OF_STORIES,-1,-1;ROOF_TYPE \"ROOF_TYPE\" true true false 64 Text 0 0,First,#,Warehouses_Riverside_prelim,CREST_PROPERTY_CHAR.ROOF_TYPE,0,64;GARAGE_TYPE \"GARAGE_TYPE\" true true false 64 Text 0 0,First,#,Warehouses_Riverside_prelim,CREST_PROPERTY_CHAR.GARAGE_TYPE,0,64;GARAGE_SIZE \"GARAGE_SIZE\" true true false 8 Double 0 0,First,#,Warehouses_Riverside_prelim,CREST_PROPERTY_CHAR.GARAGE_SIZE,-1,-1;CARPORT_SIZE \"CARPORT_SIZE\" true true false 8 Double 0 0,First,#,Warehouses_Riverside_prelim,CREST_PROPERTY_CHAR.CARPORT_SIZE,-1,-1;HAS_FIREPLACE \"HAS_FIREPLACE\" true true false 64 Text 0 0,First,#,Warehouses_Riverside_prelim,CREST_PROPERTY_CHAR.HAS_FIREPLACE,0,64;BATH_COUNT \"BATH_COUNT\" true true false 4 Long 0 0,First,#,Warehouses_Riverside_prelim,CREST_PROPERTY_CHAR.BATH_COUNT,-1,-1;CENTRAL_HEATING \"CENTRAL_HEATING\" true true false 64 Text 0 0,First,#,Warehouses_Riverside_prelim,CREST_PROPERTY_CHAR.CENTRAL_HEATING,0,64;CENTRAL_COOLING \"CENTRAL_COOLING\" true true false 64 Text 0 0,First,#,Warehouses_Riverside_prelim,CREST_PROPERTY_CHAR.CENTRAL_COOLING,0,64;DESIGN_TYPE \"DESIGN_TYPE\" true true false 64 Text 0 0,First,#,Warehouses_Riverside_prelim,CREST_PROPERTY_CHAR.DESIGN_TYPE,0,64;CONSTRUCTION_TYPE \"CONSTRUCTION_TYPE\" true true false 64 Text 0 0,First,#,Warehouses_Riverside_prelim,CREST_PROPERTY_CHAR.CONSTRUCTION_TYPE,0,64;QUALITY_CODE \"QUALITY_CODE\" true true false 64 Text 0 0,First,#,Warehouses_Riverside_prelim,CREST_PROPERTY_CHAR.QUALITY_CODE,0,64;SHAPE_CODE \"SHAPE_CODE\" true true false 64 Text 0 0,First,#,Warehouses_Riverside_prelim,CREST_PROPERTY_CHAR.SHAPE_CODE,0,64;LIVING_AREA \"LIVING_AREA\" true true false 8 Double 0 0,First,#,Warehouses_Riverside_prelim,CREST_PROPERTY_CHAR.LIVING_AREA,-1,-1;ACTUAL_AREA \"ACTUAL_AREA\" true true false 8 Double 0 0,First,#,Warehouses_Riverside_prelim,CREST_PROPERTY_CHAR.ACTUAL_AREA,-1,-1;HAS_POOL \"HAS_POOL\" true true false 8 Text 0 0,First,#,Warehouses_Riverside_prelim,CREST_PROPERTY_CHAR.HAS_POOL,0,8;BEDROOM_COUNT \"BEDROOM_COUNT\" true true false 4 Long 0 0,First,#,Warehouses_Riverside_prelim,CREST_PROPERTY_CHAR.BEDROOM_COUNT,-1,-1;FAIRWAY \"FAIRWAY\" true true false 64 Text 0 0,First,#,Warehouses_Riverside_prelim,CREST_PROPERTY_CHAR.FAIRWAY,0,64;WATERFRONT \"WATERFRONT\" true true false 64 Text 0 0,First,#,Warehouses_Riverside_prelim,CREST_PROPERTY_CHAR.WATERFRONT,0,64', '')\n",
    "m.removeLayer(m.listLayers('Industrial_Riverside_prelim*')[0])\n",
    "industrialLyr = m.listLayers('Industrial*')[0]\n",
    "industrialLyr.name = 'Industrial'\n",
    "sym = industrialLyr.symbology\n",
    "sym.renderer.symbol.color = {'CMYK' : [0, 96, 80, 0, 100]}\n",
    "sym.renderer.symbol.outlineColor = {'CMYK' : [0, 50, 100, 0, 0]}\n",
    "industrialLyr.symbology = sym\n",
    "industrialLyr.definitionQuery = None\n",
    "lytText.text = ''\n",
    "lytTextTotalArea.text = ''\n",
    "lytTextWarehouseCount.text = ''\n",
    "#lyt.exportToSVG(dst_path + r'\\RCwarehouses_industrial2021') #PNG or SVG"
   ]
  },
  {
   "cell_type": "markdown",
   "metadata": {},
   "source": [
    "[RiversideWarehousesWIndustrial](RCwarehouses_with_industrial.svg)"
   ]
  },
  {
   "cell_type": "markdown",
   "metadata": {},
   "source": [
    "# Los Angeles"
   ]
  },
  {
   "cell_type": "code",
   "execution_count": null,
   "metadata": {},
   "outputs": [],
   "source": [
    "######Starting with SB county#######\n",
    "arcpy.env.workspace =r'D:\\01_OntarioWarehouses\\InlandEmpireWarehouses\\data\\temp.gdb'\n",
    "arcpy.env.overwriteOutput = True\n",
    "os.chdir(data_path + r'\\raw')\n",
    "\n",
    "aprx = arcpy.mp.ArcGISProject(\"Current\")\n",
    "lyt = aprx.listLayouts(\"LayoutLosAngeles\")[0]\n",
    "m = aprx.listMaps(\"WarehousesLosAngeles\")[0]\n",
    "m.addDataFromPath(r'D:\\01_OntarioWarehouses\\InlandEmpireWarehouses\\data\\raw\\LosAngeles\\LACounty_Parcels.gdb\\LACounty_Parcels')\n",
    "\n",
    "ListOfYears = ['1975','1980','1985','1990','1995','2000','2005','2010','2015','2020']\n",
    "lytText = lyt.listElements(\"TEXT_ELEMENT\", \"YearsDisplayedText\")[0]\n",
    "\n",
    "##Layout Objects###\n",
    "lytText = lyt.listElements(\"TEXT_ELEMENT\", \"YearsDisplayedText\")[0]\n",
    "lytTextTotalArea = lyt.listElements(\"TEXT_ELEMENT\", \"TotalArea\")[0]\n",
    "lytTextDisclaimer = lyt.listElements(\"TEXT_ELEMENT\", \"disclaimer\")[0]\n",
    "lytTextWarehouseCount = lyt.listElements(\"TEXT_ELEMENT\", \"WarehouseCount\")[0]"
   ]
  }
 ],
 "metadata": {
  "kernelspec": {
   "display_name": "ArcGISPro",
   "language": "Python",
   "name": "python3"
  },
  "language_info": {
   "file_extension": ".py",
   "name": "python",
   "version": "3"
  }
 },
 "nbformat": 4,
 "nbformat_minor": 2
}
